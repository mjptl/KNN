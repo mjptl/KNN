{
 "cells": [
  {
   "cell_type": "code",
   "execution_count": 1,
   "metadata": {},
   "outputs": [],
   "source": [
    "import random\n",
    "import pandas as pd\n",
    "import numpy as np\n",
    "import matplotlib.pyplot as plt"
   ]
  },
  {
   "cell_type": "code",
   "execution_count": 103,
   "metadata": {},
   "outputs": [
    {
     "data": {
      "text/html": [
       "<div>\n",
       "<style scoped>\n",
       "    .dataframe tbody tr th:only-of-type {\n",
       "        vertical-align: middle;\n",
       "    }\n",
       "\n",
       "    .dataframe tbody tr th {\n",
       "        vertical-align: top;\n",
       "    }\n",
       "\n",
       "    .dataframe thead th {\n",
       "        text-align: right;\n",
       "    }\n",
       "</style>\n",
       "<table border=\"1\" class=\"dataframe\">\n",
       "  <thead>\n",
       "    <tr style=\"text-align: right;\">\n",
       "      <th></th>\n",
       "      <th>sepal length</th>\n",
       "      <th>sepal width</th>\n",
       "      <th>petal length</th>\n",
       "      <th>petal width</th>\n",
       "      <th>flower type</th>\n",
       "    </tr>\n",
       "  </thead>\n",
       "  <tbody>\n",
       "    <tr>\n",
       "      <th>0</th>\n",
       "      <td>4.9</td>\n",
       "      <td>3.0</td>\n",
       "      <td>1.4</td>\n",
       "      <td>0.2</td>\n",
       "      <td>Iris-setosa</td>\n",
       "    </tr>\n",
       "    <tr>\n",
       "      <th>1</th>\n",
       "      <td>4.7</td>\n",
       "      <td>3.2</td>\n",
       "      <td>1.3</td>\n",
       "      <td>0.2</td>\n",
       "      <td>Iris-setosa</td>\n",
       "    </tr>\n",
       "    <tr>\n",
       "      <th>2</th>\n",
       "      <td>4.6</td>\n",
       "      <td>3.1</td>\n",
       "      <td>1.5</td>\n",
       "      <td>0.2</td>\n",
       "      <td>Iris-setosa</td>\n",
       "    </tr>\n",
       "    <tr>\n",
       "      <th>3</th>\n",
       "      <td>5.0</td>\n",
       "      <td>3.6</td>\n",
       "      <td>1.4</td>\n",
       "      <td>0.2</td>\n",
       "      <td>Iris-setosa</td>\n",
       "    </tr>\n",
       "    <tr>\n",
       "      <th>4</th>\n",
       "      <td>5.4</td>\n",
       "      <td>3.9</td>\n",
       "      <td>1.7</td>\n",
       "      <td>0.4</td>\n",
       "      <td>Iris-setosa</td>\n",
       "    </tr>\n",
       "    <tr>\n",
       "      <th>...</th>\n",
       "      <td>...</td>\n",
       "      <td>...</td>\n",
       "      <td>...</td>\n",
       "      <td>...</td>\n",
       "      <td>...</td>\n",
       "    </tr>\n",
       "    <tr>\n",
       "      <th>65</th>\n",
       "      <td>5.6</td>\n",
       "      <td>3.0</td>\n",
       "      <td>4.5</td>\n",
       "      <td>1.5</td>\n",
       "      <td>Iris-versicolor</td>\n",
       "    </tr>\n",
       "    <tr>\n",
       "      <th>66</th>\n",
       "      <td>5.8</td>\n",
       "      <td>2.7</td>\n",
       "      <td>4.1</td>\n",
       "      <td>1.0</td>\n",
       "      <td>Iris-versicolor</td>\n",
       "    </tr>\n",
       "    <tr>\n",
       "      <th>67</th>\n",
       "      <td>6.2</td>\n",
       "      <td>2.2</td>\n",
       "      <td>4.5</td>\n",
       "      <td>1.5</td>\n",
       "      <td>Iris-versicolor</td>\n",
       "    </tr>\n",
       "    <tr>\n",
       "      <th>68</th>\n",
       "      <td>5.6</td>\n",
       "      <td>2.5</td>\n",
       "      <td>3.9</td>\n",
       "      <td>1.1</td>\n",
       "      <td>Iris-versicolor</td>\n",
       "    </tr>\n",
       "    <tr>\n",
       "      <th>69</th>\n",
       "      <td>5.9</td>\n",
       "      <td>3.2</td>\n",
       "      <td>4.8</td>\n",
       "      <td>1.8</td>\n",
       "      <td>Iris-versicolor</td>\n",
       "    </tr>\n",
       "  </tbody>\n",
       "</table>\n",
       "<p>70 rows × 5 columns</p>\n",
       "</div>"
      ],
      "text/plain": [
       "   sepal length sepal width petal length petal width      flower type\n",
       "0           4.9         3.0          1.4         0.2      Iris-setosa\n",
       "1           4.7         3.2          1.3         0.2      Iris-setosa\n",
       "2           4.6         3.1          1.5         0.2      Iris-setosa\n",
       "3           5.0         3.6          1.4         0.2      Iris-setosa\n",
       "4           5.4         3.9          1.7         0.4      Iris-setosa\n",
       "..          ...         ...          ...         ...              ...\n",
       "65          5.6         3.0          4.5         1.5  Iris-versicolor\n",
       "66          5.8         2.7          4.1         1.0  Iris-versicolor\n",
       "67          6.2         2.2          4.5         1.5  Iris-versicolor\n",
       "68          5.6         2.5          3.9         1.1  Iris-versicolor\n",
       "69          5.9         3.2          4.8         1.8  Iris-versicolor\n",
       "\n",
       "[70 rows x 5 columns]"
      ]
     },
     "execution_count": 103,
     "metadata": {},
     "output_type": "execute_result"
    }
   ],
   "source": [
    "columns = ['sepal length','sepal width','petal length','petal width','flower type']\n",
    "dataFile = pd.read_csv(\"dataFile.csv\",delimiter=',')\n",
    "data = pd.DataFrame(np.array(dataFile),columns = columns)\n",
    "data[0:70]"
   ]
  },
  {
   "cell_type": "code",
   "execution_count": 104,
   "metadata": {},
   "outputs": [],
   "source": [
    "def classify_flower_type(data):\n",
    "    for i in range(len(data)):\n",
    "        if 'setosa' in data['flower type'][i]:\n",
    "            data['flower type'][i] = 1\n",
    "        elif 'versicolor' in data['flower type'][i]:\n",
    "            data['flower type'][i] = 2\n",
    "        elif 'virginica' in data['flower type'][i]:\n",
    "            data['flower type'][i] = 3\n",
    "    \n",
    "    return data"
   ]
  },
  {
   "cell_type": "code",
   "execution_count": 105,
   "metadata": {},
   "outputs": [],
   "source": [
    "def train_test_data_split(df,n):    \n",
    "    df = df.sample(frac=1)\n",
    "    \n",
    "    train_data = df[0:int(data.shape[0]*(1-0.2)+1)]\n",
    "    test_data = df[int(data.shape[0]*(1-0.2)):]\n",
    "    \n",
    "    return train_data,test_data"
   ]
  },
  {
   "cell_type": "code",
   "execution_count": 106,
   "metadata": {},
   "outputs": [],
   "source": [
    "data = classify_flower_type(data)\n",
    "train_data,test_data = train_test_data_split(data,0.2)"
   ]
  },
  {
   "cell_type": "code",
   "execution_count": 107,
   "metadata": {},
   "outputs": [
    {
     "name": "stdout",
     "output_type": "stream",
     "text": [
      "test data lenght: (30, 5)\n",
      "train data lenght: (120, 5)\n"
     ]
    }
   ],
   "source": [
    "print(\"test data lenght:\",test_data.shape)\n",
    "print(\"train data lenght:\",train_data.shape)"
   ]
  },
  {
   "cell_type": "code",
   "execution_count": 108,
   "metadata": {},
   "outputs": [
    {
     "data": {
      "text/plain": [
       "<matplotlib.collections.PathCollection at 0x27655b73860>"
      ]
     },
     "execution_count": 108,
     "metadata": {},
     "output_type": "execute_result"
    },
    {
     "data": {
      "image/png": "[encoded data removed]",
      "text/plain": [
       "<Figure size 640x480 with 1 Axes>"
      ]
     },
     "metadata": {
      "needs_background": "light"
     },
     "output_type": "display_data"
    }
   ],
   "source": [
    "colors = {1:'red', 2:'green', 3:'blue'}\n",
    "plt.figure(figsize=(8, 6), dpi=80)\n",
    "plt.scatter(train_data['sepal length'], train_data['sepal width'], c=train_data['flower type'].map(colors))"
   ]
  },
  {
   "cell_type": "code",
   "execution_count": 109,
   "metadata": {},
   "outputs": [
    {
     "data": {
      "text/plain": [
       "<matplotlib.collections.PathCollection at 0x276558097b8>"
      ]
     },
     "execution_count": 109,
     "metadata": {},
     "output_type": "execute_result"
    },
    {
     "data": {
      "image/png": "[encoded data removed]",
      "text/plain": [
       "<Figure size 640x480 with 1 Axes>"
      ]
     },
     "metadata": {
      "needs_background": "light"
     },
     "output_type": "display_data"
    }
   ],
   "source": [
    "plt.figure(figsize=(8, 6), dpi=80)\n",
    "plt.scatter(train_data['petal length'], train_data['petal width'], c=train_data['flower type'].map(colors))"
   ]
  },
  {
   "cell_type": "code",
   "execution_count": 96,
   "metadata": {},
   "outputs": [],
   "source": [
    "def model(train_data,test_data,K):\n",
    "    results = []\n",
    "    for i in range(0,len(test_data)):\n",
    "        temp = train_data\n",
    "        temp['dist'] = ((test_data['sepal length'].iloc[i] - train_data['sepal length'])**2 + (test_data['sepal width'].iloc[i] - train_data['sepal width'])**2 + (test_data['petal length'].iloc[i] - train_data['petal length'])**2 + (test_data['petal width'].iloc[i] - train_data['petal width'])**2)**(1/2)\n",
    "        temp = temp.sort_values(\"dist\")\n",
    "        results.append(temp[0:K]['flower type'].value_counts().idxmax())\n",
    "    return results"
   ]
  },
  {
   "cell_type": "code",
   "execution_count": 111,
   "metadata": {},
   "outputs": [
    {
     "name": "stdout",
     "output_type": "stream",
     "text": [
      "[3, 3, 1, 1, 2, 1, 2, 2, 1, 3, 3, 2, 1, 1, 1, 3, 1, 1, 2, 2, 2, 1, 3, 1, 1, 1, 3, 1, 3, 2]\n"
     ]
    }
   ],
   "source": [
    "k = 3\n",
    "results = model(train_data,test_data,k)\n",
    "print(results)"
   ]
  },
  {
   "cell_type": "code",
   "execution_count": 112,
   "metadata": {},
   "outputs": [],
   "source": [
    "def find_accuracy(results,test_data):\n",
    "    acc = 0\n",
    "    for i in range(len(results)):\n",
    "        if results[i] == test_data['flower type'].iloc[i]:\n",
    "            acc += 1\n",
    "        else:\n",
    "            acc = acc\n",
    "    return acc/len(results)*100"
   ]
  },
  {
   "cell_type": "code",
   "execution_count": 118,
   "metadata": {},
   "outputs": [
    {
     "name": "stdout",
     "output_type": "stream",
     "text": [
      "96.0 %\n"
     ]
    }
   ],
   "source": [
    "print('Model Accuracy:',find_accuracy(results,test_data)//1,\"%\")"
   ]
  },
  {
   "cell_type": "code",
   "execution_count": null,
   "metadata": {},
   "outputs": [],
   "source": []
  }
 ],
 "metadata": {
  "kernelspec": {
   "display_name": "Python 3",
   "language": "python",
   "name": "python3"
  },
  "language_info": {
   "codemirror_mode": {
    "name": "ipython",
    "version": 3
   },
   "file_extension": ".py",
   "mimetype": "text/x-python",
   "name": "python",
   "nbconvert_exporter": "python",
   "pygments_lexer": "ipython3",
   "version": "3.7.1"
  }
 },
 "nbformat": 4,
 "nbformat_minor": 4
}
